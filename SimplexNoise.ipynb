{
 "cells": [
  {
   "cell_type": "code",
   "execution_count": 122,
   "metadata": {},
   "outputs": [],
   "source": [
    "import math\n",
    "import numpy as np\n",
    "import matplotlib.pyplot as plt\n",
    "import scipy\n",
    "from PIL import Image\n",
    "from opensimplex import OpenSimplex\n",
    "\n",
    "%matplotlib inline"
   ]
  },
  {
   "cell_type": "code",
   "execution_count": 118,
   "metadata": {},
   "outputs": [],
   "source": [
    "seed = np.random.randint(0,100)\n",
    "gen = OpenSimplex(seed=seed)\n",
    "\n",
    "def noise(nx, ny):\n",
    "    # rescale from -1:1 to 0:1\n",
    "    return gen.noise2d(nx, ny) / 2.0 + 0.5\n",
    "\n",
    "def generate_terrain(width=512, height=512, frequency=1, distribution=2):\n",
    "    image = (height, width)\n",
    "    image = np.zeros(image)\n",
    "    a = 0.06\n",
    "    b = 0.85\n",
    "    c = 1.2\n",
    "    for y in range(height):\n",
    "        for x in range(width):\n",
    "            nx = x/width - 0.5\n",
    "            ny = y/height - 0.5\n",
    "            # Playing with different elevation formula to control island creation\n",
    "            # Using eclidean distance d\n",
    "            d = 2 * math.sqrt(nx * nx + ny * ny)\n",
    "            e = noise(frequency * nx, frequency * ny)\n",
    "            e = (e + a) * (1 - b * np.power(d, c))\n",
    "            image[y][x] = np.power(e, distribution)\n",
    "\n",
    "    return image\n",
    "\n",
    "def create_biome(terrain):\n",
    "    color_terrain = np.zeros((len(terrain[0]), len(terrain[1]))+(3,))\n",
    "    \n",
    "    ocean = [65,105,225]\n",
    "    beach = [238,214,175]\n",
    "    jungle = [34,139,34]\n",
    "    mountain = [139,137,137]\n",
    "    snow = [255,250,250]\n",
    "    \n",
    "    #print(len(terrain[0]))\n",
    "    \n",
    "    for x in range(len(terrain[0])):\n",
    "        for y in range(len(terrain[1])):\n",
    "            if terrain[x][y] < 0.3:\n",
    "                color_terrain[x][y] = ocean\n",
    "            elif terrain[x][y] < 0.4:\n",
    "                color_terrain[x][y] = beach\n",
    "            elif terrain[x][y] < 0.6:\n",
    "                color_terrain[x][y] = jungle\n",
    "            elif terrain[x][y] < 0.7:\n",
    "                color_terrain[x][y] = mountain\n",
    "            elif terrain[x][y] < 1.0:\n",
    "                color_terrain[x][y] = snow\n",
    "\n",
    "    return color_terrain\n",
    "\n",
    "def normalize_matrix(matrix):\n",
    "    min = np.min(matrix)\n",
    "    max = np.max(matrix)\n",
    "\n",
    "    return np.uint8((matrix - min) * 255/(max - min))"
   ]
  },
  {
   "cell_type": "code",
   "execution_count": 119,
   "metadata": {},
   "outputs": [
    {
     "name": "stderr",
     "output_type": "stream",
     "text": [
      "/usr/local/lib/python3.6/site-packages/ipykernel_launcher.py:23: RuntimeWarning: invalid value encountered in power\n"
     ]
    },
    {
     "data": {
      "text/plain": [
       "[<matplotlib.lines.Line2D at 0x1236f3f28>]"
      ]
     },
     "execution_count": 119,
     "metadata": {},
     "output_type": "execute_result"
    },
    {
     "data": {
      "image/png": "[encoded data removed]",
      "text/plain": [
       "<Figure size 432x288 with 1 Axes>"
      ]
     },
     "metadata": {},
     "output_type": "display_data"
    }
   ],
   "source": [
    "terrain = generate_terrain(width=1024, height=1024, frequency=5, distribution=1.5)\n",
    "#print(terrain)\n",
    "plt.figure()\n",
    "plt.plot(terrain[0])"
   ]
  },
  {
   "cell_type": "code",
   "execution_count": 120,
   "metadata": {},
   "outputs": [
    {
     "name": "stderr",
     "output_type": "stream",
     "text": [
      "/usr/local/lib/python3.6/site-packages/numpy/core/_methods.py:29: RuntimeWarning: invalid value encountered in reduce\n",
      "  return umr_minimum(a, axis, None, out, keepdims)\n",
      "/usr/local/lib/python3.6/site-packages/numpy/core/_methods.py:26: RuntimeWarning: invalid value encountered in reduce\n",
      "  return umr_maximum(a, axis, None, out, keepdims)\n"
     ]
    },
    {
     "data": {
      "text/plain": [
       "<matplotlib.image.AxesImage at 0x1247bf780>"
      ]
     },
     "execution_count": 120,
     "metadata": {},
     "output_type": "execute_result"
    },
    {
     "data": {
      "image/png": "[encoded data removed]",
      "text/plain": [
       "<Figure size 432x288 with 1 Axes>"
      ]
     },
     "metadata": {},
     "output_type": "display_data"
    }
   ],
   "source": [
    "image = Image.fromarray(normalize_matrix(terrain), 'P')\n",
    "plt.imshow(image, label='terrain')"
   ]
  },
  {
   "cell_type": "code",
   "execution_count": 121,
   "metadata": {},
   "outputs": [
    {
     "data": {
      "text/plain": [
       "<matplotlib.image.AxesImage at 0x12485a7f0>"
      ]
     },
     "execution_count": 121,
     "metadata": {},
     "output_type": "execute_result"
    },
    {
     "data": {
      "image/png": "[encoded data removed]",
      "text/plain": [
       "<Figure size 432x288 with 1 Axes>"
      ]
     },
     "metadata": {},
     "output_type": "display_data"
    }
   ],
   "source": [
    "biome = create_biome(terrain)\n",
    "biome_image = Image.fromarray(normalize_matrix(biome), 'RGB')\n",
    "plt.imshow(biome_image)"
   ]
  },
  {
   "cell_type": "code",
   "execution_count": null,
   "metadata": {},
   "outputs": [],
   "source": []
  },
  {
   "cell_type": "code",
   "execution_count": null,
   "metadata": {},
   "outputs": [],
   "source": []
  }
 ],
 "metadata": {
  "kernelspec": {
   "display_name": "Python 3",
   "language": "python",
   "name": "python3"
  },
  "language_info": {
   "codemirror_mode": {
    "name": "ipython",
    "version": 3
   },
   "file_extension": ".py",
   "mimetype": "text/x-python",
   "name": "python",
   "nbconvert_exporter": "python",
   "pygments_lexer": "ipython3",
   "version": "3.6.5"
  }
 },
 "nbformat": 4,
 "nbformat_minor": 2
}
